{
 "cells": [
  {
   "cell_type": "markdown",
   "metadata": {
    "collapsed": true,
    "pycharm": {
     "name": "#%% md\n"
    }
   },
   "source": [
    "**Esercitazione**\n",
    "Provare a completare il notebook, seguendo le indicazioni fornite.\n",
    "Il notebook è fornito già eseguito, in modo da poter sfruttare l'output generato da ogni cella per\n",
    "verificare la correttezza della risoluzione.\n",
    "Alcune parti di codice sono state sostituite da tre punti consecutivi.\n",
    "\n",
    "\n",
    "### Dataset sulla qualità dei vini\n",
    "\n",
    "*Questo set di dati è correlato alle varianti rosse del vino portoghese\n",
    "\"Vinho Verde\". Il set di dati descrive la quantità di varie sostanze\n",
    "chimiche presenti nel vino e permette di identificare il loro effetto\n",
    "sulla sua qualità.\n",
    "Il dataset è disponibile su Kaggle alla url\n",
    "https://www.kaggle.com/datasets/yasserh/wine-quality-dataset*"
   ]
  },
  {
   "cell_type": "code",
   "execution_count": 1,
   "metadata": {
    "pycharm": {
     "name": "#%%\n"
    }
   },
   "outputs": [],
   "source": [
    "# importazione librerie necessarie\n",
    "\n",
    "import numpy as np\n",
    "import pandas as pd\n",
    "import matplotlib.pyplot as plt\n",
    "import seaborn as sns\n",
    "from sklearn.preprocessing import MinMaxScaler\n",
    "import tensorflow as tf\n",
    "from sklearn.utils import shuffle"
   ]
  },
  {
   "cell_type": "code",
   "execution_count": 5,
   "metadata": {
    "pycharm": {
     "name": "#%%\n"
    }
   },
   "outputs": [
    {
     "data": {
      "text/plain": [
       "(1143, 13)"
      ]
     },
     "execution_count": 5,
     "metadata": {},
     "output_type": "execute_result"
    }
   ],
   "source": [
    "# caricamento dataset in memoria\n",
    "\n",
    "# utilizzare il metodo [read_csv] dei dataframe di Pandas\n",
    "# per caricare il file disponibile all'indirizzo\n",
    "# 'data/WineQT.csv'\n",
    "\n",
    "df =pd.read_csv('data/WineQT.csv')\n",
    "df.shape"
   ]
  },
  {
   "cell_type": "code",
   "execution_count": 6,
   "metadata": {
    "pycharm": {
     "name": "#%%\n"
    }
   },
   "outputs": [
    {
     "data": {
      "text/html": [
       "<style type=\"text/css\">\n",
       "#T_cf726_row0_col0, #T_cf726_row4_col0 {\n",
       "  background-color: #f5e0bb;\n",
       "  color: #000000;\n",
       "}\n",
       "#T_cf726_row0_col1, #T_cf726_row4_col1, #T_cf726_row7_col9 {\n",
       "  background-color: #f3efea;\n",
       "  color: #000000;\n",
       "}\n",
       "#T_cf726_row0_col2, #T_cf726_row0_col4, #T_cf726_row0_col12, #T_cf726_row1_col2, #T_cf726_row1_col4, #T_cf726_row2_col2, #T_cf726_row2_col4, #T_cf726_row3_col1, #T_cf726_row3_col4, #T_cf726_row4_col2, #T_cf726_row4_col4, #T_cf726_row5_col2, #T_cf726_row5_col4, #T_cf726_row6_col2, #T_cf726_row6_col4, #T_cf726_row7_col2, #T_cf726_row7_col4, #T_cf726_row8_col2, #T_cf726_row8_col4, #T_cf726_row9_col2, #T_cf726_row9_col4 {\n",
       "  background-color: #f3f0ee;\n",
       "  color: #000000;\n",
       "}\n",
       "#T_cf726_row0_col3, #T_cf726_row4_col3, #T_cf726_row6_col8, #T_cf726_row7_col3 {\n",
       "  background-color: #f4ece1;\n",
       "  color: #000000;\n",
       "}\n",
       "#T_cf726_row0_col5, #T_cf726_row4_col5 {\n",
       "  background-color: #f7d8a2;\n",
       "  color: #000000;\n",
       "}\n",
       "#T_cf726_row0_col6, #T_cf726_row1_col6, #T_cf726_row2_col6, #T_cf726_row3_col6, #T_cf726_row4_col6, #T_cf726_row5_col6, #T_cf726_row6_col6, #T_cf726_row7_col6, #T_cf726_row8_col6, #T_cf726_row9_col6 {\n",
       "  background-color: #ffa500;\n",
       "  color: #000000;\n",
       "}\n",
       "#T_cf726_row0_col7, #T_cf726_row3_col3, #T_cf726_row4_col7, #T_cf726_row7_col1, #T_cf726_row8_col1, #T_cf726_row8_col9 {\n",
       "  background-color: #f3eee8;\n",
       "  color: #000000;\n",
       "}\n",
       "#T_cf726_row0_col8, #T_cf726_row4_col8, #T_cf726_row9_col0 {\n",
       "  background-color: #f4e8d6;\n",
       "  color: #000000;\n",
       "}\n",
       "#T_cf726_row0_col9, #T_cf726_row2_col7, #T_cf726_row4_col9, #T_cf726_row5_col1, #T_cf726_row6_col7 {\n",
       "  background-color: #f3efeb;\n",
       "  color: #000000;\n",
       "}\n",
       "#T_cf726_row0_col10, #T_cf726_row2_col5, #T_cf726_row4_col10 {\n",
       "  background-color: #f6dcad;\n",
       "  color: #000000;\n",
       "}\n",
       "#T_cf726_row0_col11, #T_cf726_row1_col10, #T_cf726_row4_col11 {\n",
       "  background-color: #f5e5cc;\n",
       "  color: #000000;\n",
       "}\n",
       "#T_cf726_row1_col0 {\n",
       "  background-color: #f4e8d3;\n",
       "  color: #000000;\n",
       "}\n",
       "#T_cf726_row1_col1, #T_cf726_row1_col7, #T_cf726_row1_col12, #T_cf726_row2_col1, #T_cf726_row3_col7, #T_cf726_row5_col9, #T_cf726_row9_col7 {\n",
       "  background-color: #f3efec;\n",
       "  color: #000000;\n",
       "}\n",
       "#T_cf726_row1_col3, #T_cf726_row2_col12 {\n",
       "  background-color: #f3ede6;\n",
       "  color: #000000;\n",
       "}\n",
       "#T_cf726_row1_col5 {\n",
       "  background-color: #f7d496;\n",
       "  color: #000000;\n",
       "}\n",
       "#T_cf726_row1_col8, #T_cf726_row3_col12, #T_cf726_row7_col7, #T_cf726_row9_col8 {\n",
       "  background-color: #f3ede3;\n",
       "  color: #000000;\n",
       "}\n",
       "#T_cf726_row1_col9, #T_cf726_row2_col9, #T_cf726_row3_col2, #T_cf726_row3_col9, #T_cf726_row6_col1, #T_cf726_row6_col9, #T_cf726_row9_col1, #T_cf726_row9_col9 {\n",
       "  background-color: #f3f0ed;\n",
       "  color: #000000;\n",
       "}\n",
       "#T_cf726_row1_col11, #T_cf726_row9_col11 {\n",
       "  background-color: #f4ebdd;\n",
       "  color: #000000;\n",
       "}\n",
       "#T_cf726_row2_col0 {\n",
       "  background-color: #f5e6cd;\n",
       "  color: #000000;\n",
       "}\n",
       "#T_cf726_row2_col3 {\n",
       "  background-color: #f3ede5;\n",
       "  color: #000000;\n",
       "}\n",
       "#T_cf726_row2_col8 {\n",
       "  background-color: #f4ece0;\n",
       "  color: #000000;\n",
       "}\n",
       "#T_cf726_row2_col10 {\n",
       "  background-color: #f5e3c3;\n",
       "  color: #000000;\n",
       "}\n",
       "#T_cf726_row2_col11 {\n",
       "  background-color: #f4e9d9;\n",
       "  color: #000000;\n",
       "}\n",
       "#T_cf726_row3_col0, #T_cf726_row5_col0, #T_cf726_row8_col8 {\n",
       "  background-color: #f5e2c2;\n",
       "  color: #000000;\n",
       "}\n",
       "#T_cf726_row3_col5 {\n",
       "  background-color: #f6dbab;\n",
       "  color: #000000;\n",
       "}\n",
       "#T_cf726_row3_col8, #T_cf726_row8_col7 {\n",
       "  background-color: #f3ece2;\n",
       "  color: #000000;\n",
       "}\n",
       "#T_cf726_row3_col10, #T_cf726_row7_col8 {\n",
       "  background-color: #f5e4c8;\n",
       "  color: #000000;\n",
       "}\n",
       "#T_cf726_row3_col11, #T_cf726_row6_col12 {\n",
       "  background-color: #f4e9d7;\n",
       "  color: #000000;\n",
       "}\n",
       "#T_cf726_row4_col12 {\n",
       "  background-color: #f4e7d2;\n",
       "  color: #000000;\n",
       "}\n",
       "#T_cf726_row5_col3 {\n",
       "  background-color: #f3ede4;\n",
       "  color: #000000;\n",
       "}\n",
       "#T_cf726_row5_col5 {\n",
       "  background-color: #f7d8a1;\n",
       "  color: #000000;\n",
       "}\n",
       "#T_cf726_row5_col7, #T_cf726_row6_col3, #T_cf726_row9_col3 {\n",
       "  background-color: #f3eee9;\n",
       "  color: #000000;\n",
       "}\n",
       "#T_cf726_row5_col8 {\n",
       "  background-color: #f4eada;\n",
       "  color: #000000;\n",
       "}\n",
       "#T_cf726_row5_col10 {\n",
       "  background-color: #f6deb6;\n",
       "  color: #000000;\n",
       "}\n",
       "#T_cf726_row5_col11, #T_cf726_row5_col12 {\n",
       "  background-color: #f4e7d1;\n",
       "  color: #000000;\n",
       "}\n",
       "#T_cf726_row6_col0 {\n",
       "  background-color: #f4e6cf;\n",
       "  color: #000000;\n",
       "}\n",
       "#T_cf726_row6_col5 {\n",
       "  background-color: #f6ddb3;\n",
       "  color: #000000;\n",
       "}\n",
       "#T_cf726_row6_col10 {\n",
       "  background-color: #f5e4c9;\n",
       "  color: #000000;\n",
       "}\n",
       "#T_cf726_row6_col11 {\n",
       "  background-color: #f4eadb;\n",
       "  color: #000000;\n",
       "}\n",
       "#T_cf726_row7_col0 {\n",
       "  background-color: #f7d69c;\n",
       "  color: #000000;\n",
       "}\n",
       "#T_cf726_row7_col5 {\n",
       "  background-color: #fcbb44;\n",
       "  color: #000000;\n",
       "}\n",
       "#T_cf726_row7_col10 {\n",
       "  background-color: #f9cc7d;\n",
       "  color: #000000;\n",
       "}\n",
       "#T_cf726_row7_col11, #T_cf726_row7_col12 {\n",
       "  background-color: #f7d79f;\n",
       "  color: #000000;\n",
       "}\n",
       "#T_cf726_row8_col0 {\n",
       "  background-color: #f8d088;\n",
       "  color: #000000;\n",
       "}\n",
       "#T_cf726_row8_col3 {\n",
       "  background-color: #f4e8d4;\n",
       "  color: #000000;\n",
       "}\n",
       "#T_cf726_row8_col5 {\n",
       "  background-color: #f9cb78;\n",
       "  color: #000000;\n",
       "}\n",
       "#T_cf726_row8_col10 {\n",
       "  background-color: #f9c971;\n",
       "  color: #000000;\n",
       "}\n",
       "#T_cf726_row8_col11 {\n",
       "  background-color: #f8d392;\n",
       "  color: #000000;\n",
       "}\n",
       "#T_cf726_row8_col12 {\n",
       "  background-color: #f8cf85;\n",
       "  color: #000000;\n",
       "}\n",
       "#T_cf726_row9_col5 {\n",
       "  background-color: #f6dfb8;\n",
       "  color: #000000;\n",
       "}\n",
       "#T_cf726_row9_col10 {\n",
       "  background-color: #f5e6ce;\n",
       "  color: #000000;\n",
       "}\n",
       "#T_cf726_row9_col12 {\n",
       "  background-color: #f5e5ca;\n",
       "  color: #000000;\n",
       "}\n",
       "</style>\n",
       "<table id=\"T_cf726\">\n",
       "  <thead>\n",
       "    <tr>\n",
       "      <th class=\"blank level0\" >&nbsp;</th>\n",
       "      <th id=\"T_cf726_level0_col0\" class=\"col_heading level0 col0\" >fixed acidity</th>\n",
       "      <th id=\"T_cf726_level0_col1\" class=\"col_heading level0 col1\" >volatile acidity</th>\n",
       "      <th id=\"T_cf726_level0_col2\" class=\"col_heading level0 col2\" >citric acid</th>\n",
       "      <th id=\"T_cf726_level0_col3\" class=\"col_heading level0 col3\" >residual sugar</th>\n",
       "      <th id=\"T_cf726_level0_col4\" class=\"col_heading level0 col4\" >chlorides</th>\n",
       "      <th id=\"T_cf726_level0_col5\" class=\"col_heading level0 col5\" >free sulfur dioxide</th>\n",
       "      <th id=\"T_cf726_level0_col6\" class=\"col_heading level0 col6\" >total sulfur dioxide</th>\n",
       "      <th id=\"T_cf726_level0_col7\" class=\"col_heading level0 col7\" >density</th>\n",
       "      <th id=\"T_cf726_level0_col8\" class=\"col_heading level0 col8\" >pH</th>\n",
       "      <th id=\"T_cf726_level0_col9\" class=\"col_heading level0 col9\" >sulphates</th>\n",
       "      <th id=\"T_cf726_level0_col10\" class=\"col_heading level0 col10\" >alcohol</th>\n",
       "      <th id=\"T_cf726_level0_col11\" class=\"col_heading level0 col11\" >quality</th>\n",
       "      <th id=\"T_cf726_level0_col12\" class=\"col_heading level0 col12\" >Id</th>\n",
       "    </tr>\n",
       "  </thead>\n",
       "  <tbody>\n",
       "    <tr>\n",
       "      <th id=\"T_cf726_level0_row0\" class=\"row_heading level0 row0\" >0</th>\n",
       "      <td id=\"T_cf726_row0_col0\" class=\"data row0 col0\" >7.400000</td>\n",
       "      <td id=\"T_cf726_row0_col1\" class=\"data row0 col1\" >0.700000</td>\n",
       "      <td id=\"T_cf726_row0_col2\" class=\"data row0 col2\" >0.000000</td>\n",
       "      <td id=\"T_cf726_row0_col3\" class=\"data row0 col3\" >1.900000</td>\n",
       "      <td id=\"T_cf726_row0_col4\" class=\"data row0 col4\" >0.076000</td>\n",
       "      <td id=\"T_cf726_row0_col5\" class=\"data row0 col5\" >11.000000</td>\n",
       "      <td id=\"T_cf726_row0_col6\" class=\"data row0 col6\" >34.000000</td>\n",
       "      <td id=\"T_cf726_row0_col7\" class=\"data row0 col7\" >0.997800</td>\n",
       "      <td id=\"T_cf726_row0_col8\" class=\"data row0 col8\" >3.510000</td>\n",
       "      <td id=\"T_cf726_row0_col9\" class=\"data row0 col9\" >0.560000</td>\n",
       "      <td id=\"T_cf726_row0_col10\" class=\"data row0 col10\" >9.400000</td>\n",
       "      <td id=\"T_cf726_row0_col11\" class=\"data row0 col11\" >5</td>\n",
       "      <td id=\"T_cf726_row0_col12\" class=\"data row0 col12\" >0</td>\n",
       "    </tr>\n",
       "    <tr>\n",
       "      <th id=\"T_cf726_level0_row1\" class=\"row_heading level0 row1\" >1</th>\n",
       "      <td id=\"T_cf726_row1_col0\" class=\"data row1 col0\" >7.800000</td>\n",
       "      <td id=\"T_cf726_row1_col1\" class=\"data row1 col1\" >0.880000</td>\n",
       "      <td id=\"T_cf726_row1_col2\" class=\"data row1 col2\" >0.000000</td>\n",
       "      <td id=\"T_cf726_row1_col3\" class=\"data row1 col3\" >2.600000</td>\n",
       "      <td id=\"T_cf726_row1_col4\" class=\"data row1 col4\" >0.098000</td>\n",
       "      <td id=\"T_cf726_row1_col5\" class=\"data row1 col5\" >25.000000</td>\n",
       "      <td id=\"T_cf726_row1_col6\" class=\"data row1 col6\" >67.000000</td>\n",
       "      <td id=\"T_cf726_row1_col7\" class=\"data row1 col7\" >0.996800</td>\n",
       "      <td id=\"T_cf726_row1_col8\" class=\"data row1 col8\" >3.200000</td>\n",
       "      <td id=\"T_cf726_row1_col9\" class=\"data row1 col9\" >0.680000</td>\n",
       "      <td id=\"T_cf726_row1_col10\" class=\"data row1 col10\" >9.800000</td>\n",
       "      <td id=\"T_cf726_row1_col11\" class=\"data row1 col11\" >5</td>\n",
       "      <td id=\"T_cf726_row1_col12\" class=\"data row1 col12\" >1</td>\n",
       "    </tr>\n",
       "    <tr>\n",
       "      <th id=\"T_cf726_level0_row2\" class=\"row_heading level0 row2\" >2</th>\n",
       "      <td id=\"T_cf726_row2_col0\" class=\"data row2 col0\" >7.800000</td>\n",
       "      <td id=\"T_cf726_row2_col1\" class=\"data row2 col1\" >0.760000</td>\n",
       "      <td id=\"T_cf726_row2_col2\" class=\"data row2 col2\" >0.040000</td>\n",
       "      <td id=\"T_cf726_row2_col3\" class=\"data row2 col3\" >2.300000</td>\n",
       "      <td id=\"T_cf726_row2_col4\" class=\"data row2 col4\" >0.092000</td>\n",
       "      <td id=\"T_cf726_row2_col5\" class=\"data row2 col5\" >15.000000</td>\n",
       "      <td id=\"T_cf726_row2_col6\" class=\"data row2 col6\" >54.000000</td>\n",
       "      <td id=\"T_cf726_row2_col7\" class=\"data row2 col7\" >0.997000</td>\n",
       "      <td id=\"T_cf726_row2_col8\" class=\"data row2 col8\" >3.260000</td>\n",
       "      <td id=\"T_cf726_row2_col9\" class=\"data row2 col9\" >0.650000</td>\n",
       "      <td id=\"T_cf726_row2_col10\" class=\"data row2 col10\" >9.800000</td>\n",
       "      <td id=\"T_cf726_row2_col11\" class=\"data row2 col11\" >5</td>\n",
       "      <td id=\"T_cf726_row2_col12\" class=\"data row2 col12\" >2</td>\n",
       "    </tr>\n",
       "    <tr>\n",
       "      <th id=\"T_cf726_level0_row3\" class=\"row_heading level0 row3\" >3</th>\n",
       "      <td id=\"T_cf726_row3_col0\" class=\"data row3 col0\" >11.200000</td>\n",
       "      <td id=\"T_cf726_row3_col1\" class=\"data row3 col1\" >0.280000</td>\n",
       "      <td id=\"T_cf726_row3_col2\" class=\"data row3 col2\" >0.560000</td>\n",
       "      <td id=\"T_cf726_row3_col3\" class=\"data row3 col3\" >1.900000</td>\n",
       "      <td id=\"T_cf726_row3_col4\" class=\"data row3 col4\" >0.075000</td>\n",
       "      <td id=\"T_cf726_row3_col5\" class=\"data row3 col5\" >17.000000</td>\n",
       "      <td id=\"T_cf726_row3_col6\" class=\"data row3 col6\" >60.000000</td>\n",
       "      <td id=\"T_cf726_row3_col7\" class=\"data row3 col7\" >0.998000</td>\n",
       "      <td id=\"T_cf726_row3_col8\" class=\"data row3 col8\" >3.160000</td>\n",
       "      <td id=\"T_cf726_row3_col9\" class=\"data row3 col9\" >0.580000</td>\n",
       "      <td id=\"T_cf726_row3_col10\" class=\"data row3 col10\" >9.800000</td>\n",
       "      <td id=\"T_cf726_row3_col11\" class=\"data row3 col11\" >6</td>\n",
       "      <td id=\"T_cf726_row3_col12\" class=\"data row3 col12\" >3</td>\n",
       "    </tr>\n",
       "    <tr>\n",
       "      <th id=\"T_cf726_level0_row4\" class=\"row_heading level0 row4\" >4</th>\n",
       "      <td id=\"T_cf726_row4_col0\" class=\"data row4 col0\" >7.400000</td>\n",
       "      <td id=\"T_cf726_row4_col1\" class=\"data row4 col1\" >0.700000</td>\n",
       "      <td id=\"T_cf726_row4_col2\" class=\"data row4 col2\" >0.000000</td>\n",
       "      <td id=\"T_cf726_row4_col3\" class=\"data row4 col3\" >1.900000</td>\n",
       "      <td id=\"T_cf726_row4_col4\" class=\"data row4 col4\" >0.076000</td>\n",
       "      <td id=\"T_cf726_row4_col5\" class=\"data row4 col5\" >11.000000</td>\n",
       "      <td id=\"T_cf726_row4_col6\" class=\"data row4 col6\" >34.000000</td>\n",
       "      <td id=\"T_cf726_row4_col7\" class=\"data row4 col7\" >0.997800</td>\n",
       "      <td id=\"T_cf726_row4_col8\" class=\"data row4 col8\" >3.510000</td>\n",
       "      <td id=\"T_cf726_row4_col9\" class=\"data row4 col9\" >0.560000</td>\n",
       "      <td id=\"T_cf726_row4_col10\" class=\"data row4 col10\" >9.400000</td>\n",
       "      <td id=\"T_cf726_row4_col11\" class=\"data row4 col11\" >5</td>\n",
       "      <td id=\"T_cf726_row4_col12\" class=\"data row4 col12\" >4</td>\n",
       "    </tr>\n",
       "    <tr>\n",
       "      <th id=\"T_cf726_level0_row5\" class=\"row_heading level0 row5\" >5</th>\n",
       "      <td id=\"T_cf726_row5_col0\" class=\"data row5 col0\" >7.400000</td>\n",
       "      <td id=\"T_cf726_row5_col1\" class=\"data row5 col1\" >0.660000</td>\n",
       "      <td id=\"T_cf726_row5_col2\" class=\"data row5 col2\" >0.000000</td>\n",
       "      <td id=\"T_cf726_row5_col3\" class=\"data row5 col3\" >1.800000</td>\n",
       "      <td id=\"T_cf726_row5_col4\" class=\"data row5 col4\" >0.075000</td>\n",
       "      <td id=\"T_cf726_row5_col5\" class=\"data row5 col5\" >13.000000</td>\n",
       "      <td id=\"T_cf726_row5_col6\" class=\"data row5 col6\" >40.000000</td>\n",
       "      <td id=\"T_cf726_row5_col7\" class=\"data row5 col7\" >0.997800</td>\n",
       "      <td id=\"T_cf726_row5_col8\" class=\"data row5 col8\" >3.510000</td>\n",
       "      <td id=\"T_cf726_row5_col9\" class=\"data row5 col9\" >0.560000</td>\n",
       "      <td id=\"T_cf726_row5_col10\" class=\"data row5 col10\" >9.400000</td>\n",
       "      <td id=\"T_cf726_row5_col11\" class=\"data row5 col11\" >5</td>\n",
       "      <td id=\"T_cf726_row5_col12\" class=\"data row5 col12\" >5</td>\n",
       "    </tr>\n",
       "    <tr>\n",
       "      <th id=\"T_cf726_level0_row6\" class=\"row_heading level0 row6\" >6</th>\n",
       "      <td id=\"T_cf726_row6_col0\" class=\"data row6 col0\" >7.900000</td>\n",
       "      <td id=\"T_cf726_row6_col1\" class=\"data row6 col1\" >0.600000</td>\n",
       "      <td id=\"T_cf726_row6_col2\" class=\"data row6 col2\" >0.060000</td>\n",
       "      <td id=\"T_cf726_row6_col3\" class=\"data row6 col3\" >1.600000</td>\n",
       "      <td id=\"T_cf726_row6_col4\" class=\"data row6 col4\" >0.069000</td>\n",
       "      <td id=\"T_cf726_row6_col5\" class=\"data row6 col5\" >15.000000</td>\n",
       "      <td id=\"T_cf726_row6_col6\" class=\"data row6 col6\" >59.000000</td>\n",
       "      <td id=\"T_cf726_row6_col7\" class=\"data row6 col7\" >0.996400</td>\n",
       "      <td id=\"T_cf726_row6_col8\" class=\"data row6 col8\" >3.300000</td>\n",
       "      <td id=\"T_cf726_row6_col9\" class=\"data row6 col9\" >0.460000</td>\n",
       "      <td id=\"T_cf726_row6_col10\" class=\"data row6 col10\" >9.400000</td>\n",
       "      <td id=\"T_cf726_row6_col11\" class=\"data row6 col11\" >5</td>\n",
       "      <td id=\"T_cf726_row6_col12\" class=\"data row6 col12\" >6</td>\n",
       "    </tr>\n",
       "    <tr>\n",
       "      <th id=\"T_cf726_level0_row7\" class=\"row_heading level0 row7\" >7</th>\n",
       "      <td id=\"T_cf726_row7_col0\" class=\"data row7 col0\" >7.300000</td>\n",
       "      <td id=\"T_cf726_row7_col1\" class=\"data row7 col1\" >0.650000</td>\n",
       "      <td id=\"T_cf726_row7_col2\" class=\"data row7 col2\" >0.000000</td>\n",
       "      <td id=\"T_cf726_row7_col3\" class=\"data row7 col3\" >1.200000</td>\n",
       "      <td id=\"T_cf726_row7_col4\" class=\"data row7 col4\" >0.065000</td>\n",
       "      <td id=\"T_cf726_row7_col5\" class=\"data row7 col5\" >15.000000</td>\n",
       "      <td id=\"T_cf726_row7_col6\" class=\"data row7 col6\" >21.000000</td>\n",
       "      <td id=\"T_cf726_row7_col7\" class=\"data row7 col7\" >0.994600</td>\n",
       "      <td id=\"T_cf726_row7_col8\" class=\"data row7 col8\" >3.390000</td>\n",
       "      <td id=\"T_cf726_row7_col9\" class=\"data row7 col9\" >0.470000</td>\n",
       "      <td id=\"T_cf726_row7_col10\" class=\"data row7 col10\" >10.000000</td>\n",
       "      <td id=\"T_cf726_row7_col11\" class=\"data row7 col11\" >7</td>\n",
       "      <td id=\"T_cf726_row7_col12\" class=\"data row7 col12\" >7</td>\n",
       "    </tr>\n",
       "    <tr>\n",
       "      <th id=\"T_cf726_level0_row8\" class=\"row_heading level0 row8\" >8</th>\n",
       "      <td id=\"T_cf726_row8_col0\" class=\"data row8 col0\" >7.800000</td>\n",
       "      <td id=\"T_cf726_row8_col1\" class=\"data row8 col1\" >0.580000</td>\n",
       "      <td id=\"T_cf726_row8_col2\" class=\"data row8 col2\" >0.020000</td>\n",
       "      <td id=\"T_cf726_row8_col3\" class=\"data row8 col3\" >2.000000</td>\n",
       "      <td id=\"T_cf726_row8_col4\" class=\"data row8 col4\" >0.073000</td>\n",
       "      <td id=\"T_cf726_row8_col5\" class=\"data row8 col5\" >9.000000</td>\n",
       "      <td id=\"T_cf726_row8_col6\" class=\"data row8 col6\" >18.000000</td>\n",
       "      <td id=\"T_cf726_row8_col7\" class=\"data row8 col7\" >0.996800</td>\n",
       "      <td id=\"T_cf726_row8_col8\" class=\"data row8 col8\" >3.360000</td>\n",
       "      <td id=\"T_cf726_row8_col9\" class=\"data row8 col9\" >0.570000</td>\n",
       "      <td id=\"T_cf726_row8_col10\" class=\"data row8 col10\" >9.500000</td>\n",
       "      <td id=\"T_cf726_row8_col11\" class=\"data row8 col11\" >7</td>\n",
       "      <td id=\"T_cf726_row8_col12\" class=\"data row8 col12\" >8</td>\n",
       "    </tr>\n",
       "    <tr>\n",
       "      <th id=\"T_cf726_level0_row9\" class=\"row_heading level0 row9\" >9</th>\n",
       "      <td id=\"T_cf726_row9_col0\" class=\"data row9 col0\" >6.700000</td>\n",
       "      <td id=\"T_cf726_row9_col1\" class=\"data row9 col1\" >0.580000</td>\n",
       "      <td id=\"T_cf726_row9_col2\" class=\"data row9 col2\" >0.080000</td>\n",
       "      <td id=\"T_cf726_row9_col3\" class=\"data row9 col3\" >1.800000</td>\n",
       "      <td id=\"T_cf726_row9_col4\" class=\"data row9 col4\" >0.097000</td>\n",
       "      <td id=\"T_cf726_row9_col5\" class=\"data row9 col5\" >15.000000</td>\n",
       "      <td id=\"T_cf726_row9_col6\" class=\"data row9 col6\" >65.000000</td>\n",
       "      <td id=\"T_cf726_row9_col7\" class=\"data row9 col7\" >0.995900</td>\n",
       "      <td id=\"T_cf726_row9_col8\" class=\"data row9 col8\" >3.280000</td>\n",
       "      <td id=\"T_cf726_row9_col9\" class=\"data row9 col9\" >0.540000</td>\n",
       "      <td id=\"T_cf726_row9_col10\" class=\"data row9 col10\" >9.200000</td>\n",
       "      <td id=\"T_cf726_row9_col11\" class=\"data row9 col11\" >5</td>\n",
       "      <td id=\"T_cf726_row9_col12\" class=\"data row9 col12\" >10</td>\n",
       "    </tr>\n",
       "  </tbody>\n",
       "</table>\n"
      ],
      "text/plain": [
       "<pandas.io.formats.style.Styler at 0x18e58f5de40>"
      ]
     },
     "execution_count": 6,
     "metadata": {},
     "output_type": "execute_result"
    }
   ],
   "source": [
    "# visualizzazione delle prime 10 righe del dataset\n",
    "# utilizzando uno stile per il background delle celle\n",
    "# in grado di evidenziare i valori minimi e massimi\n",
    "# tramite gradienti di colore che vanno dal bianco\n",
    "# all'arancione, sfruttando il metodo:\n",
    "# https://pandas.pydata.org/docs/reference/api/pandas.io.formats.style.Styler.background_gradient.html\n",
    "\n",
    "color_map = sns.light_palette('orange', as_cmap=True)\n",
    "#df.head(10).style.background_gradient(cmap='YlOrRd', axis=1)\n",
    "df.head(10).style.background_gradient(color_map, axis=1)"
   ]
  },
  {
   "cell_type": "code",
   "execution_count": 7,
   "metadata": {
    "pycharm": {
     "name": "#%%\n"
    }
   },
   "outputs": [
    {
     "data": {
      "text/html": [
       "<div>\n",
       "<style scoped>\n",
       "    .dataframe tbody tr th:only-of-type {\n",
       "        vertical-align: middle;\n",
       "    }\n",
       "\n",
       "    .dataframe tbody tr th {\n",
       "        vertical-align: top;\n",
       "    }\n",
       "\n",
       "    .dataframe thead th {\n",
       "        text-align: right;\n",
       "    }\n",
       "</style>\n",
       "<table border=\"1\" class=\"dataframe\">\n",
       "  <thead>\n",
       "    <tr style=\"text-align: right;\">\n",
       "      <th></th>\n",
       "      <th>fixed acidity</th>\n",
       "      <th>volatile acidity</th>\n",
       "      <th>citric acid</th>\n",
       "      <th>residual sugar</th>\n",
       "      <th>chlorides</th>\n",
       "      <th>free sulfur dioxide</th>\n",
       "      <th>total sulfur dioxide</th>\n",
       "      <th>density</th>\n",
       "      <th>pH</th>\n",
       "      <th>sulphates</th>\n",
       "      <th>alcohol</th>\n",
       "      <th>quality</th>\n",
       "    </tr>\n",
       "  </thead>\n",
       "  <tbody>\n",
       "    <tr>\n",
       "      <th>0</th>\n",
       "      <td>7.4</td>\n",
       "      <td>0.700</td>\n",
       "      <td>0.00</td>\n",
       "      <td>1.9</td>\n",
       "      <td>0.076</td>\n",
       "      <td>11.0</td>\n",
       "      <td>34.0</td>\n",
       "      <td>0.99780</td>\n",
       "      <td>3.51</td>\n",
       "      <td>0.56</td>\n",
       "      <td>9.4</td>\n",
       "      <td>5</td>\n",
       "    </tr>\n",
       "    <tr>\n",
       "      <th>1</th>\n",
       "      <td>7.8</td>\n",
       "      <td>0.880</td>\n",
       "      <td>0.00</td>\n",
       "      <td>2.6</td>\n",
       "      <td>0.098</td>\n",
       "      <td>25.0</td>\n",
       "      <td>67.0</td>\n",
       "      <td>0.99680</td>\n",
       "      <td>3.20</td>\n",
       "      <td>0.68</td>\n",
       "      <td>9.8</td>\n",
       "      <td>5</td>\n",
       "    </tr>\n",
       "    <tr>\n",
       "      <th>2</th>\n",
       "      <td>7.8</td>\n",
       "      <td>0.760</td>\n",
       "      <td>0.04</td>\n",
       "      <td>2.3</td>\n",
       "      <td>0.092</td>\n",
       "      <td>15.0</td>\n",
       "      <td>54.0</td>\n",
       "      <td>0.99700</td>\n",
       "      <td>3.26</td>\n",
       "      <td>0.65</td>\n",
       "      <td>9.8</td>\n",
       "      <td>5</td>\n",
       "    </tr>\n",
       "    <tr>\n",
       "      <th>3</th>\n",
       "      <td>11.2</td>\n",
       "      <td>0.280</td>\n",
       "      <td>0.56</td>\n",
       "      <td>1.9</td>\n",
       "      <td>0.075</td>\n",
       "      <td>17.0</td>\n",
       "      <td>60.0</td>\n",
       "      <td>0.99800</td>\n",
       "      <td>3.16</td>\n",
       "      <td>0.58</td>\n",
       "      <td>9.8</td>\n",
       "      <td>6</td>\n",
       "    </tr>\n",
       "    <tr>\n",
       "      <th>4</th>\n",
       "      <td>7.4</td>\n",
       "      <td>0.700</td>\n",
       "      <td>0.00</td>\n",
       "      <td>1.9</td>\n",
       "      <td>0.076</td>\n",
       "      <td>11.0</td>\n",
       "      <td>34.0</td>\n",
       "      <td>0.99780</td>\n",
       "      <td>3.51</td>\n",
       "      <td>0.56</td>\n",
       "      <td>9.4</td>\n",
       "      <td>5</td>\n",
       "    </tr>\n",
       "    <tr>\n",
       "      <th>...</th>\n",
       "      <td>...</td>\n",
       "      <td>...</td>\n",
       "      <td>...</td>\n",
       "      <td>...</td>\n",
       "      <td>...</td>\n",
       "      <td>...</td>\n",
       "      <td>...</td>\n",
       "      <td>...</td>\n",
       "      <td>...</td>\n",
       "      <td>...</td>\n",
       "      <td>...</td>\n",
       "      <td>...</td>\n",
       "    </tr>\n",
       "    <tr>\n",
       "      <th>1138</th>\n",
       "      <td>6.3</td>\n",
       "      <td>0.510</td>\n",
       "      <td>0.13</td>\n",
       "      <td>2.3</td>\n",
       "      <td>0.076</td>\n",
       "      <td>29.0</td>\n",
       "      <td>40.0</td>\n",
       "      <td>0.99574</td>\n",
       "      <td>3.42</td>\n",
       "      <td>0.75</td>\n",
       "      <td>11.0</td>\n",
       "      <td>6</td>\n",
       "    </tr>\n",
       "    <tr>\n",
       "      <th>1139</th>\n",
       "      <td>6.8</td>\n",
       "      <td>0.620</td>\n",
       "      <td>0.08</td>\n",
       "      <td>1.9</td>\n",
       "      <td>0.068</td>\n",
       "      <td>28.0</td>\n",
       "      <td>38.0</td>\n",
       "      <td>0.99651</td>\n",
       "      <td>3.42</td>\n",
       "      <td>0.82</td>\n",
       "      <td>9.5</td>\n",
       "      <td>6</td>\n",
       "    </tr>\n",
       "    <tr>\n",
       "      <th>1140</th>\n",
       "      <td>6.2</td>\n",
       "      <td>0.600</td>\n",
       "      <td>0.08</td>\n",
       "      <td>2.0</td>\n",
       "      <td>0.090</td>\n",
       "      <td>32.0</td>\n",
       "      <td>44.0</td>\n",
       "      <td>0.99490</td>\n",
       "      <td>3.45</td>\n",
       "      <td>0.58</td>\n",
       "      <td>10.5</td>\n",
       "      <td>5</td>\n",
       "    </tr>\n",
       "    <tr>\n",
       "      <th>1141</th>\n",
       "      <td>5.9</td>\n",
       "      <td>0.550</td>\n",
       "      <td>0.10</td>\n",
       "      <td>2.2</td>\n",
       "      <td>0.062</td>\n",
       "      <td>39.0</td>\n",
       "      <td>51.0</td>\n",
       "      <td>0.99512</td>\n",
       "      <td>3.52</td>\n",
       "      <td>0.76</td>\n",
       "      <td>11.2</td>\n",
       "      <td>6</td>\n",
       "    </tr>\n",
       "    <tr>\n",
       "      <th>1142</th>\n",
       "      <td>5.9</td>\n",
       "      <td>0.645</td>\n",
       "      <td>0.12</td>\n",
       "      <td>2.0</td>\n",
       "      <td>0.075</td>\n",
       "      <td>32.0</td>\n",
       "      <td>44.0</td>\n",
       "      <td>0.99547</td>\n",
       "      <td>3.57</td>\n",
       "      <td>0.71</td>\n",
       "      <td>10.2</td>\n",
       "      <td>5</td>\n",
       "    </tr>\n",
       "  </tbody>\n",
       "</table>\n",
       "<p>1143 rows × 12 columns</p>\n",
       "</div>"
      ],
      "text/plain": [
       "      fixed acidity  volatile acidity  citric acid  residual sugar  chlorides  \\\n",
       "0               7.4             0.700         0.00             1.9      0.076   \n",
       "1               7.8             0.880         0.00             2.6      0.098   \n",
       "2               7.8             0.760         0.04             2.3      0.092   \n",
       "3              11.2             0.280         0.56             1.9      0.075   \n",
       "4               7.4             0.700         0.00             1.9      0.076   \n",
       "...             ...               ...          ...             ...        ...   \n",
       "1138            6.3             0.510         0.13             2.3      0.076   \n",
       "1139            6.8             0.620         0.08             1.9      0.068   \n",
       "1140            6.2             0.600         0.08             2.0      0.090   \n",
       "1141            5.9             0.550         0.10             2.2      0.062   \n",
       "1142            5.9             0.645         0.12             2.0      0.075   \n",
       "\n",
       "      free sulfur dioxide  total sulfur dioxide  density    pH  sulphates  \\\n",
       "0                    11.0                  34.0  0.99780  3.51       0.56   \n",
       "1                    25.0                  67.0  0.99680  3.20       0.68   \n",
       "2                    15.0                  54.0  0.99700  3.26       0.65   \n",
       "3                    17.0                  60.0  0.99800  3.16       0.58   \n",
       "4                    11.0                  34.0  0.99780  3.51       0.56   \n",
       "...                   ...                   ...      ...   ...        ...   \n",
       "1138                 29.0                  40.0  0.99574  3.42       0.75   \n",
       "1139                 28.0                  38.0  0.99651  3.42       0.82   \n",
       "1140                 32.0                  44.0  0.99490  3.45       0.58   \n",
       "1141                 39.0                  51.0  0.99512  3.52       0.76   \n",
       "1142                 32.0                  44.0  0.99547  3.57       0.71   \n",
       "\n",
       "      alcohol  quality  \n",
       "0         9.4        5  \n",
       "1         9.8        5  \n",
       "2         9.8        5  \n",
       "3         9.8        6  \n",
       "4         9.4        5  \n",
       "...       ...      ...  \n",
       "1138     11.0        6  \n",
       "1139      9.5        6  \n",
       "1140     10.5        5  \n",
       "1141     11.2        6  \n",
       "1142     10.2        5  \n",
       "\n",
       "[1143 rows x 12 columns]"
      ]
     },
     "execution_count": 7,
     "metadata": {},
     "output_type": "execute_result"
    }
   ],
   "source": [
    "# eliminazione della colonna [id] dal dataframe [df]\n",
    "\n",
    "df=df.drop('Id', axis=1)\n",
    "df"
   ]
  },
  {
   "cell_type": "code",
   "execution_count": 8,
   "metadata": {
    "pycharm": {
     "name": "#%%\n"
    }
   },
   "outputs": [
    {
     "name": "stdout",
     "output_type": "stream",
     "text": [
      "sono disponibili 1143 esempi, ognuno caratterizzato da 12 feature.\n",
      "sono disponibili 1143 esempi, ognuno caratterizzato da 12 feature.\n"
     ]
    }
   ],
   "source": [
    "# stampare il numero di righe e di colonne disponibili\n",
    "\n",
    "print('sono disponibili', df.shape[0], 'esempi, ognuno caratterizzato da', df.shape[1], 'feature.')\n",
    "print('sono disponibili', len(df), 'esempi, ognuno caratterizzato da', len(df.columns), 'feature.')"
   ]
  },
  {
   "cell_type": "code",
   "execution_count": 9,
   "metadata": {
    "pycharm": {
     "name": "#%%\n"
    }
   },
   "outputs": [
    {
     "data": {
      "text/html": [
       "<div>\n",
       "<style scoped>\n",
       "    .dataframe tbody tr th:only-of-type {\n",
       "        vertical-align: middle;\n",
       "    }\n",
       "\n",
       "    .dataframe tbody tr th {\n",
       "        vertical-align: top;\n",
       "    }\n",
       "\n",
       "    .dataframe thead th {\n",
       "        text-align: right;\n",
       "    }\n",
       "</style>\n",
       "<table border=\"1\" class=\"dataframe\">\n",
       "  <thead>\n",
       "    <tr style=\"text-align: right;\">\n",
       "      <th></th>\n",
       "      <th>count</th>\n",
       "      <th>mean</th>\n",
       "      <th>std</th>\n",
       "      <th>min</th>\n",
       "      <th>25%</th>\n",
       "      <th>50%</th>\n",
       "      <th>75%</th>\n",
       "      <th>max</th>\n",
       "    </tr>\n",
       "  </thead>\n",
       "  <tbody>\n",
       "    <tr>\n",
       "      <th>fixed acidity</th>\n",
       "      <td>1143.0</td>\n",
       "      <td>8.311111</td>\n",
       "      <td>1.747595</td>\n",
       "      <td>4.60000</td>\n",
       "      <td>7.10000</td>\n",
       "      <td>7.90000</td>\n",
       "      <td>9.100000</td>\n",
       "      <td>15.90000</td>\n",
       "    </tr>\n",
       "    <tr>\n",
       "      <th>volatile acidity</th>\n",
       "      <td>1143.0</td>\n",
       "      <td>0.531339</td>\n",
       "      <td>0.179633</td>\n",
       "      <td>0.12000</td>\n",
       "      <td>0.39250</td>\n",
       "      <td>0.52000</td>\n",
       "      <td>0.640000</td>\n",
       "      <td>1.58000</td>\n",
       "    </tr>\n",
       "    <tr>\n",
       "      <th>citric acid</th>\n",
       "      <td>1143.0</td>\n",
       "      <td>0.268364</td>\n",
       "      <td>0.196686</td>\n",
       "      <td>0.00000</td>\n",
       "      <td>0.09000</td>\n",
       "      <td>0.25000</td>\n",
       "      <td>0.420000</td>\n",
       "      <td>1.00000</td>\n",
       "    </tr>\n",
       "    <tr>\n",
       "      <th>residual sugar</th>\n",
       "      <td>1143.0</td>\n",
       "      <td>2.532152</td>\n",
       "      <td>1.355917</td>\n",
       "      <td>0.90000</td>\n",
       "      <td>1.90000</td>\n",
       "      <td>2.20000</td>\n",
       "      <td>2.600000</td>\n",
       "      <td>15.50000</td>\n",
       "    </tr>\n",
       "    <tr>\n",
       "      <th>chlorides</th>\n",
       "      <td>1143.0</td>\n",
       "      <td>0.086933</td>\n",
       "      <td>0.047267</td>\n",
       "      <td>0.01200</td>\n",
       "      <td>0.07000</td>\n",
       "      <td>0.07900</td>\n",
       "      <td>0.090000</td>\n",
       "      <td>0.61100</td>\n",
       "    </tr>\n",
       "    <tr>\n",
       "      <th>free sulfur dioxide</th>\n",
       "      <td>1143.0</td>\n",
       "      <td>15.615486</td>\n",
       "      <td>10.250486</td>\n",
       "      <td>1.00000</td>\n",
       "      <td>7.00000</td>\n",
       "      <td>13.00000</td>\n",
       "      <td>21.000000</td>\n",
       "      <td>68.00000</td>\n",
       "    </tr>\n",
       "    <tr>\n",
       "      <th>total sulfur dioxide</th>\n",
       "      <td>1143.0</td>\n",
       "      <td>45.914698</td>\n",
       "      <td>32.782130</td>\n",
       "      <td>6.00000</td>\n",
       "      <td>21.00000</td>\n",
       "      <td>37.00000</td>\n",
       "      <td>61.000000</td>\n",
       "      <td>289.00000</td>\n",
       "    </tr>\n",
       "    <tr>\n",
       "      <th>density</th>\n",
       "      <td>1143.0</td>\n",
       "      <td>0.996730</td>\n",
       "      <td>0.001925</td>\n",
       "      <td>0.99007</td>\n",
       "      <td>0.99557</td>\n",
       "      <td>0.99668</td>\n",
       "      <td>0.997845</td>\n",
       "      <td>1.00369</td>\n",
       "    </tr>\n",
       "    <tr>\n",
       "      <th>pH</th>\n",
       "      <td>1143.0</td>\n",
       "      <td>3.311015</td>\n",
       "      <td>0.156664</td>\n",
       "      <td>2.74000</td>\n",
       "      <td>3.20500</td>\n",
       "      <td>3.31000</td>\n",
       "      <td>3.400000</td>\n",
       "      <td>4.01000</td>\n",
       "    </tr>\n",
       "    <tr>\n",
       "      <th>sulphates</th>\n",
       "      <td>1143.0</td>\n",
       "      <td>0.657708</td>\n",
       "      <td>0.170399</td>\n",
       "      <td>0.33000</td>\n",
       "      <td>0.55000</td>\n",
       "      <td>0.62000</td>\n",
       "      <td>0.730000</td>\n",
       "      <td>2.00000</td>\n",
       "    </tr>\n",
       "    <tr>\n",
       "      <th>alcohol</th>\n",
       "      <td>1143.0</td>\n",
       "      <td>10.442111</td>\n",
       "      <td>1.082196</td>\n",
       "      <td>8.40000</td>\n",
       "      <td>9.50000</td>\n",
       "      <td>10.20000</td>\n",
       "      <td>11.100000</td>\n",
       "      <td>14.90000</td>\n",
       "    </tr>\n",
       "    <tr>\n",
       "      <th>quality</th>\n",
       "      <td>1143.0</td>\n",
       "      <td>5.657043</td>\n",
       "      <td>0.805824</td>\n",
       "      <td>3.00000</td>\n",
       "      <td>5.00000</td>\n",
       "      <td>6.00000</td>\n",
       "      <td>6.000000</td>\n",
       "      <td>8.00000</td>\n",
       "    </tr>\n",
       "  </tbody>\n",
       "</table>\n",
       "</div>"
      ],
      "text/plain": [
       "                       count       mean        std      min       25%  \\\n",
       "fixed acidity         1143.0   8.311111   1.747595  4.60000   7.10000   \n",
       "volatile acidity      1143.0   0.531339   0.179633  0.12000   0.39250   \n",
       "citric acid           1143.0   0.268364   0.196686  0.00000   0.09000   \n",
       "residual sugar        1143.0   2.532152   1.355917  0.90000   1.90000   \n",
       "chlorides             1143.0   0.086933   0.047267  0.01200   0.07000   \n",
       "free sulfur dioxide   1143.0  15.615486  10.250486  1.00000   7.00000   \n",
       "total sulfur dioxide  1143.0  45.914698  32.782130  6.00000  21.00000   \n",
       "density               1143.0   0.996730   0.001925  0.99007   0.99557   \n",
       "pH                    1143.0   3.311015   0.156664  2.74000   3.20500   \n",
       "sulphates             1143.0   0.657708   0.170399  0.33000   0.55000   \n",
       "alcohol               1143.0  10.442111   1.082196  8.40000   9.50000   \n",
       "quality               1143.0   5.657043   0.805824  3.00000   5.00000   \n",
       "\n",
       "                           50%        75%        max  \n",
       "fixed acidity          7.90000   9.100000   15.90000  \n",
       "volatile acidity       0.52000   0.640000    1.58000  \n",
       "citric acid            0.25000   0.420000    1.00000  \n",
       "residual sugar         2.20000   2.600000   15.50000  \n",
       "chlorides              0.07900   0.090000    0.61100  \n",
       "free sulfur dioxide   13.00000  21.000000   68.00000  \n",
       "total sulfur dioxide  37.00000  61.000000  289.00000  \n",
       "density                0.99668   0.997845    1.00369  \n",
       "pH                     3.31000   3.400000    4.01000  \n",
       "sulphates              0.62000   0.730000    2.00000  \n",
       "alcohol               10.20000  11.100000   14.90000  \n",
       "quality                6.00000   6.000000    8.00000  "
      ]
     },
     "execution_count": 9,
     "metadata": {},
     "output_type": "execute_result"
    }
   ],
   "source": [
    "# visualizzare le statistiche descrittive del dataset relativamente\n",
    "# alle feature disponibili (conteggio, media, percentili, ...)\n",
    "# visualizzando una feature per ogni riga ed avendo le statistiche\n",
    "# sulle colonne\n",
    "\n",
    "df.describe().T"
   ]
  },
  {
   "cell_type": "code",
   "execution_count": 10,
   "metadata": {
    "pycharm": {
     "name": "#%%\n"
    }
   },
   "outputs": [
    {
     "name": "stdout",
     "output_type": "stream",
     "text": [
      "<class 'pandas.core.frame.DataFrame'>\n",
      "RangeIndex: 1143 entries, 0 to 1142\n",
      "Data columns (total 12 columns):\n",
      " #   Column                Non-Null Count  Dtype  \n",
      "---  ------                --------------  -----  \n",
      " 0   fixed acidity         1143 non-null   float64\n",
      " 1   volatile acidity      1143 non-null   float64\n",
      " 2   citric acid           1143 non-null   float64\n",
      " 3   residual sugar        1143 non-null   float64\n",
      " 4   chlorides             1143 non-null   float64\n",
      " 5   free sulfur dioxide   1143 non-null   float64\n",
      " 6   total sulfur dioxide  1143 non-null   float64\n",
      " 7   density               1143 non-null   float64\n",
      " 8   pH                    1143 non-null   float64\n",
      " 9   sulphates             1143 non-null   float64\n",
      " 10  alcohol               1143 non-null   float64\n",
      " 11  quality               1143 non-null   int64  \n",
      "dtypes: float64(11), int64(1)\n",
      "memory usage: 107.3 KB\n"
     ]
    }
   ],
   "source": [
    "# visualizzazione delle informazioni sul dataset\n",
    "# per la verifica dei tipi di dato disponibili\n",
    "# e per la ricerca di valori non validi (null/NaN)\n",
    "\n",
    "df.info()"
   ]
  },
  {
   "cell_type": "code",
   "execution_count": 11,
   "metadata": {
    "pycharm": {
     "name": "#%%\n"
    }
   },
   "outputs": [
    {
     "data": {
      "text/plain": [
       "fixed acidity           0\n",
       "volatile acidity        0\n",
       "citric acid             0\n",
       "residual sugar          0\n",
       "chlorides               0\n",
       "free sulfur dioxide     0\n",
       "total sulfur dioxide    0\n",
       "density                 0\n",
       "pH                      0\n",
       "sulphates               0\n",
       "alcohol                 0\n",
       "quality                 0\n",
       "dtype: int64"
      ]
     },
     "execution_count": 11,
     "metadata": {},
     "output_type": "execute_result"
    }
   ],
   "source": [
    "# verifica della non presenza di valori null / NaN\n",
    "# sfruttando il metodo [isnull]\n",
    "\n",
    "df.isnull().sum()"
   ]
  },
  {
   "cell_type": "code",
   "execution_count": 12,
   "metadata": {
    "pycharm": {
     "name": "#%%\n"
    }
   },
   "outputs": [
    {
     "data": {
      "text/plain": [
       "fixed acidity            91\n",
       "volatile acidity        135\n",
       "citric acid              77\n",
       "residual sugar           80\n",
       "chlorides               131\n",
       "free sulfur dioxide      53\n",
       "total sulfur dioxide    138\n",
       "density                 388\n",
       "pH                       87\n",
       "sulphates                89\n",
       "alcohol                  61\n",
       "quality                   6\n",
       "dtype: int64"
      ]
     },
     "execution_count": 12,
     "metadata": {},
     "output_type": "execute_result"
    }
   ],
   "source": [
    "# analisi del numero di valori univoci per ogni\n",
    "# caratteristica, sfruttando il metodo [nunique]\n",
    "\n",
    "df.nunique()"
   ]
  },
  {
   "cell_type": "code",
   "execution_count": 10,
   "metadata": {
    "pycharm": {
     "name": "#%%\n"
    }
   },
   "outputs": [
    {
     "ename": "SyntaxError",
     "evalue": "invalid syntax (3157403973.py, line 6)",
     "output_type": "error",
     "traceback": [
      "\u001b[1;36m  Cell \u001b[1;32mIn[10], line 6\u001b[1;36m\u001b[0m\n\u001b[1;33m    valori_distribuzione = df[col]...\u001b[0m\n\u001b[1;37m                                  ^\u001b[0m\n\u001b[1;31mSyntaxError\u001b[0m\u001b[1;31m:\u001b[0m invalid syntax\n"
     ]
    }
   ],
   "source": [
    "# analisi della distribuzione dei dati di ogni caratteristica\n",
    "# tramite istogrammi\n",
    "\n",
    "for col in df.columns:\n",
    "    f, (ax1) = plt.subplots(1, 1, figsize=(6, 3))\n",
    "    valori_distribuzione = df[col]...\n",
    "    sns.histplot(valori_distribuzione, ax=ax1, color='orange', kde=True)\n",
    "\n",
    "    media = df[col]...\n",
    "    mediana = df[col]...\n",
    "    moda = df[col]...\n",
    "\n",
    "    ax1.axvline(media, ...)\n",
    "    ax1.axvline(mediana, ...)\n",
    "    ax1.axvline(moda, ...)\n",
    "    ax1...\n",
    "    plt.grid()\n",
    "    plt.title(col)"
   ]
  },
  {
   "cell_type": "code",
   "execution_count": null,
   "metadata": {
    "pycharm": {
     "name": "#%%\n"
    }
   },
   "outputs": [],
   "source": [
    "# analisi della distribuzione degli esempi disponibili\n",
    "# relativamente alla qualità di ognuno tramite un\n",
    "# diagramma a torta\n",
    "\n",
    "plt.figure(figsize=(6, 6))\n",
    "df....value_counts().plot(kind='pie')\n",
    "plt.legend()\n",
    "plt.show()"
   ]
  },
  {
   "cell_type": "code",
   "execution_count": null,
   "metadata": {
    "pycharm": {
     "name": "#%%\n"
    }
   },
   "outputs": [],
   "source": [
    "# analisi delle eventuali correlazioni\n",
    "# tramite una mappa di correlazione\n",
    "\n",
    "plt.figure(figsize=(6, 6))\n",
    "corr = df.corr()\n",
    "sns.heatmap(..., xticklabels=..., yticklabels=..., cmap=color_map)\n",
    "plt.show()"
   ]
  },
  {
   "cell_type": "markdown",
   "metadata": {
    "pycharm": {
     "name": "#%% md\n"
    }
   },
   "source": [
    "## creazione del dataset"
   ]
  },
  {
   "cell_type": "code",
   "execution_count": 13,
   "metadata": {
    "pycharm": {
     "name": "#%%\n"
    }
   },
   "outputs": [
    {
     "name": "stdout",
     "output_type": "stream",
     "text": [
      "x <class 'numpy.ndarray'> (1143, 11)\n",
      "y <class 'numpy.ndarray'> (1143,)\n"
     ]
    }
   ],
   "source": [
    "# creare il dataset [x] con tutte le colonne\n",
    "# del dataframe [df] eccetto la colonna [quality]\n",
    "x = df.drop(columns=['quality']).copy().to_numpy()\n",
    "\n",
    "# creare il dataset [y] usando la colonna\n",
    "# [quality] del dataframe [df]\n",
    "y = df['quality'].copy().to_numpy()\n",
    "\n",
    "print('x', type(x), x.shape)\n",
    "print('y', type(y), y.shape)"
   ]
  },
  {
   "cell_type": "code",
   "execution_count": null,
   "metadata": {
    "pycharm": {
     "name": "#%%\n"
    }
   },
   "outputs": [],
   "source": [
    "# si può riprovare a lanciare il notebook mischiando\n",
    "# il dataset prima di addestrare il modello\n",
    "\n",
    "x, y = shuffle(x, y)"
   ]
  },
  {
   "cell_type": "raw",
   "metadata": {
    "pycharm": {
     "name": "#%%\n"
    }
   },
   "source": [
    "# utilizzare i primi 1000 esempi per addestrare il\n",
    "# modello e i restanti 143 esempi per validarlo\n",
    "\n",
    "#split = ...\n",
    "\n",
    "# x has shape (1143, 11) and y has shape (1143,)\n",
    "\n",
    "# Select the first 1000 rows for training\n",
    "x_train = x[:1000, :]\n",
    "y_train = y[:1000]\n",
    "\n",
    "# Select the remaining 143 rows for testing\n",
    "x_test = x[1000:, :]\n",
    "y_test = y[1000:]\n",
    "\n",
    "print(x_train.shape)\n",
    "print(x_test.shape)\n",
    "print(y_train.shape)\n",
    "print(y_test.shape)"
   ]
  },
  {
   "cell_type": "code",
   "execution_count": 14,
   "metadata": {},
   "outputs": [
    {
     "name": "stdout",
     "output_type": "stream",
     "text": [
      "(1000, 11)\n",
      "(143, 11)\n",
      "(143,)\n",
      "(1000,)\n"
     ]
    },
    {
     "data": {
      "text/plain": [
       "array([[ 9.4  ,  0.685,  0.26 , ...,  3.28 ,  0.55 ,  9.4  ],\n",
       "       [12.9  ,  0.35 ,  0.49 , ...,  3.2  ,  0.66 , 12.   ],\n",
       "       [ 6.2  ,  0.63 ,  0.31 , ...,  3.46 ,  0.79 ,  9.3  ],\n",
       "       ...,\n",
       "       [ 7.4  ,  0.35 ,  0.33 , ...,  3.36 ,  0.6  , 11.9  ],\n",
       "       [ 7.9  ,  0.57 ,  0.31 , ...,  3.29 ,  0.69 ,  9.5  ],\n",
       "       [ 7.5  ,  0.52 ,  0.4  , ...,  3.26 ,  0.64 , 11.8  ]])"
      ]
     },
     "execution_count": 14,
     "metadata": {},
     "output_type": "execute_result"
    }
   ],
   "source": [
    "from sklearn.model_selection import train_test_split\n",
    "x_train, x_test, y_train, y_test = train_test_split(x, y, test_size=143, random_state=42)\n",
    "print(x_train.shape)\n",
    "print(x_test.shape)\n",
    "print(y_test.shape)\n",
    "print(y_train.shape)\n",
    "x_train"
   ]
  },
  {
   "cell_type": "code",
   "execution_count": 15,
   "metadata": {
    "pycharm": {
     "name": "#%%\n"
    }
   },
   "outputs": [
    {
     "data": {
      "text/plain": [
       "array([[0.43636364, 0.3869863 , 0.26      , ..., 0.42519685, 0.13173653,\n",
       "        0.17857143],\n",
       "       [0.75454545, 0.15753425, 0.49      , ..., 0.36220472, 0.19760479,\n",
       "        0.64285714],\n",
       "       [0.14545455, 0.34931507, 0.31      , ..., 0.56692913, 0.2754491 ,\n",
       "        0.16071429],\n",
       "       ...,\n",
       "       [0.25454545, 0.15753425, 0.33      , ..., 0.48818898, 0.16167665,\n",
       "        0.625     ],\n",
       "       [0.3       , 0.30821918, 0.31      , ..., 0.43307087, 0.21556886,\n",
       "        0.19642857],\n",
       "       [0.26363636, 0.2739726 , 0.4       , ..., 0.40944882, 0.18562874,\n",
       "        0.60714286]])"
      ]
     },
     "execution_count": 15,
     "metadata": {},
     "output_type": "execute_result"
    }
   ],
   "source": [
    "# normalizzare il dataset tra 0 e 1\n",
    "# calcolando i valori su cui normalizzare\n",
    "# sul solo dataset di addestramento\n",
    "scaler = MinMaxScaler()\n",
    "scaler.fit(x_train)\n",
    "\n",
    "x_train_norm = scaler.transform(x_train)\n",
    "x_test_norm = scaler.transform(x_test)\n",
    "x_train_norm"
   ]
  },
  {
   "cell_type": "markdown",
   "metadata": {
    "pycharm": {
     "name": "#%% md\n"
    }
   },
   "source": [
    "## definizione del modello predittivo"
   ]
  },
  {
   "cell_type": "markdown",
   "metadata": {},
   "source": [
    "Import TensorFlow (tf): This line imports the TensorFlow library. TensorFlow is an open-source machine learning framework commonly used for building and training deep learning models.\n",
    "\n",
    "Define an Input Layer: The code uses the tf.keras.Input function to define an input layer for a neural network. The Input function is part of the Keras API, which is now integrated into TensorFlow.\n",
    "\n",
    "Specify the Shape of the Input Data: The shape parameter is set to (1000), which means the input data is expected to have a shape of (batch_size, 1000). The batch_size is a placeholder for the number of samples that will be processed in each training iteration. The shape (1000) implies that each input sample should have 1000 features.\n",
    "\n",
    "Store the Input Layer in a Variable: The result of this operation is assigned to the variable input. This variable can later be used when constructing the rest of the neural network.\n",
    "\n",
    "In summary, this code defines an input layer for a neural network that expects input data with a shape of (batch_size, 1000). This is a common way to set up the initial layer of a neural network when using the Keras API in TensorFlow. The actual architecture and layers of the neural network would typically follow this input layer definition."
   ]
  },
  {
   "cell_type": "code",
   "execution_count": 16,
   "metadata": {
    "pycharm": {
     "name": "#%%\n"
    }
   },
   "outputs": [
    {
     "name": "stdout",
     "output_type": "stream",
     "text": [
      "Model: \"model\"\n",
      "_________________________________________________________________\n",
      " Layer (type)                Output Shape              Param #   \n",
      "=================================================================\n",
      " input_1 (InputLayer)        [(None, 11)]              0         \n",
      "                                                                 \n",
      " dense (Dense)               (None, 8)                 96        \n",
      "                                                                 \n",
      " dense_1 (Dense)             (None, 8)                 72        \n",
      "                                                                 \n",
      " dense_2 (Dense)             (None, 8)                 72        \n",
      "                                                                 \n",
      " dense_3 (Dense)             (None, 1)                 9         \n",
      "                                                                 \n",
      "=================================================================\n",
      "Total params: 249 (996.00 Byte)\n",
      "Trainable params: 249 (996.00 Byte)\n",
      "Non-trainable params: 0 (0.00 Byte)\n",
      "_________________________________________________________________\n"
     ]
    }
   ],
   "source": [
    "# implementare una rete neurale artificiale\n",
    "# con tre layer nascosti, ognuno con 8 neuroni\n",
    "# e utilizzare la funzione di attivazione ReLu\n",
    "# per ognuno di questi\n",
    "input_layer = tf.keras.Input(shape=(11,))\n",
    "\n",
    "layer_1 = tf.keras.layers.Dense(units=8, activation='relu')(input_layer)\n",
    "layer_2 = tf.keras.layers.Dense(units=8, activation='relu')(layer_1)\n",
    "layer_3 = tf.keras.layers.Dense(units=8, activation='relu')(layer_2)\n",
    "\n",
    "output_layer = tf.keras.layers.Dense(1)(layer_3)\n",
    "\n",
    "model = tf.keras.Model(inputs=input_layer, outputs=output_layer)\n",
    "model.compile(\n",
    "    optimizer=tf.keras.optimizers.SGD(),\n",
    "    loss=tf.keras.losses.mean_squared_error,\n",
    "    metrics=tf.keras.metrics.mean_absolute_error\n",
    ")\n",
    "\n",
    "# visualizzare il sommario del modello\n",
    "model.summary()"
   ]
  },
  {
   "cell_type": "code",
   "execution_count": 17,
   "metadata": {
    "pycharm": {
     "name": "#%%\n"
    }
   },
   "outputs": [
    {
     "name": "stdout",
     "output_type": "stream",
     "text": [
      "Epoch 1/100\n",
      "16/16 - 1s - loss: 9.9239 - mean_absolute_error: 2.3802 - val_loss: 0.5807 - val_mean_absolute_error: 0.6306 - 808ms/epoch - 51ms/step\n",
      "Epoch 2/100\n",
      "16/16 - 0s - loss: 0.7369 - mean_absolute_error: 0.6882 - val_loss: 0.5443 - val_mean_absolute_error: 0.6066 - 85ms/epoch - 5ms/step\n",
      "Epoch 3/100\n",
      "16/16 - 0s - loss: 0.7158 - mean_absolute_error: 0.6792 - val_loss: 0.5263 - val_mean_absolute_error: 0.5906 - 90ms/epoch - 6ms/step\n",
      "Epoch 4/100\n",
      "16/16 - 0s - loss: 0.6651 - mean_absolute_error: 0.6497 - val_loss: 0.5060 - val_mean_absolute_error: 0.5755 - 58ms/epoch - 4ms/step\n",
      "Epoch 5/100\n",
      "16/16 - 0s - loss: 0.6510 - mean_absolute_error: 0.6410 - val_loss: 0.4982 - val_mean_absolute_error: 0.5673 - 82ms/epoch - 5ms/step\n",
      "Epoch 6/100\n",
      "16/16 - 0s - loss: 0.6229 - mean_absolute_error: 0.6260 - val_loss: 0.4646 - val_mean_absolute_error: 0.5522 - 84ms/epoch - 5ms/step\n",
      "Epoch 7/100\n",
      "16/16 - 0s - loss: 0.6047 - mean_absolute_error: 0.6151 - val_loss: 0.4581 - val_mean_absolute_error: 0.5415 - 81ms/epoch - 5ms/step\n",
      "Epoch 8/100\n",
      "16/16 - 0s - loss: 0.5902 - mean_absolute_error: 0.6093 - val_loss: 0.4541 - val_mean_absolute_error: 0.5378 - 81ms/epoch - 5ms/step\n",
      "Epoch 9/100\n",
      "16/16 - 0s - loss: 0.5709 - mean_absolute_error: 0.5955 - val_loss: 0.4424 - val_mean_absolute_error: 0.5360 - 82ms/epoch - 5ms/step\n",
      "Epoch 10/100\n",
      "16/16 - 0s - loss: 0.5596 - mean_absolute_error: 0.5905 - val_loss: 0.4453 - val_mean_absolute_error: 0.5302 - 81ms/epoch - 5ms/step\n",
      "Epoch 11/100\n",
      "16/16 - 0s - loss: 0.5449 - mean_absolute_error: 0.5808 - val_loss: 0.4247 - val_mean_absolute_error: 0.5207 - 84ms/epoch - 5ms/step\n",
      "Epoch 12/100\n",
      "16/16 - 0s - loss: 0.5467 - mean_absolute_error: 0.5804 - val_loss: 0.4350 - val_mean_absolute_error: 0.5265 - 84ms/epoch - 5ms/step\n",
      "Epoch 13/100\n",
      "16/16 - 0s - loss: 0.5416 - mean_absolute_error: 0.5748 - val_loss: 0.4191 - val_mean_absolute_error: 0.5136 - 78ms/epoch - 5ms/step\n",
      "Epoch 14/100\n",
      "16/16 - 0s - loss: 0.5240 - mean_absolute_error: 0.5659 - val_loss: 0.4155 - val_mean_absolute_error: 0.5107 - 83ms/epoch - 5ms/step\n",
      "Epoch 15/100\n",
      "16/16 - 0s - loss: 0.5220 - mean_absolute_error: 0.5665 - val_loss: 0.4102 - val_mean_absolute_error: 0.5053 - 82ms/epoch - 5ms/step\n",
      "Epoch 16/100\n",
      "16/16 - 0s - loss: 0.5183 - mean_absolute_error: 0.5589 - val_loss: 0.4332 - val_mean_absolute_error: 0.5204 - 69ms/epoch - 4ms/step\n",
      "Epoch 17/100\n",
      "16/16 - 0s - loss: 0.5222 - mean_absolute_error: 0.5602 - val_loss: 0.4327 - val_mean_absolute_error: 0.5125 - 78ms/epoch - 5ms/step\n",
      "Epoch 18/100\n",
      "16/16 - 0s - loss: 0.5264 - mean_absolute_error: 0.5631 - val_loss: 0.4062 - val_mean_absolute_error: 0.4999 - 70ms/epoch - 4ms/step\n",
      "Epoch 19/100\n",
      "16/16 - 0s - loss: 0.5010 - mean_absolute_error: 0.5497 - val_loss: 0.4259 - val_mean_absolute_error: 0.5124 - 78ms/epoch - 5ms/step\n",
      "Epoch 20/100\n",
      "16/16 - 0s - loss: 0.4935 - mean_absolute_error: 0.5446 - val_loss: 0.4026 - val_mean_absolute_error: 0.4940 - 78ms/epoch - 5ms/step\n",
      "Epoch 21/100\n",
      "16/16 - 0s - loss: 0.4958 - mean_absolute_error: 0.5430 - val_loss: 0.4012 - val_mean_absolute_error: 0.4942 - 80ms/epoch - 5ms/step\n",
      "Epoch 22/100\n",
      "16/16 - 0s - loss: 0.4889 - mean_absolute_error: 0.5408 - val_loss: 0.4768 - val_mean_absolute_error: 0.5345 - 69ms/epoch - 4ms/step\n",
      "Epoch 23/100\n",
      "16/16 - 0s - loss: 0.4903 - mean_absolute_error: 0.5413 - val_loss: 0.4009 - val_mean_absolute_error: 0.4935 - 66ms/epoch - 4ms/step\n",
      "Epoch 24/100\n",
      "16/16 - 0s - loss: 0.4994 - mean_absolute_error: 0.5482 - val_loss: 0.3984 - val_mean_absolute_error: 0.4909 - 69ms/epoch - 4ms/step\n",
      "Epoch 25/100\n",
      "16/16 - 0s - loss: 0.4825 - mean_absolute_error: 0.5355 - val_loss: 0.4526 - val_mean_absolute_error: 0.5203 - 84ms/epoch - 5ms/step\n",
      "Epoch 26/100\n",
      "16/16 - 0s - loss: 0.4764 - mean_absolute_error: 0.5332 - val_loss: 0.4817 - val_mean_absolute_error: 0.5348 - 66ms/epoch - 4ms/step\n",
      "Epoch 27/100\n",
      "16/16 - 0s - loss: 0.4987 - mean_absolute_error: 0.5434 - val_loss: 0.4063 - val_mean_absolute_error: 0.4915 - 83ms/epoch - 5ms/step\n",
      "Epoch 28/100\n",
      "16/16 - 0s - loss: 0.4773 - mean_absolute_error: 0.5314 - val_loss: 0.4507 - val_mean_absolute_error: 0.5183 - 81ms/epoch - 5ms/step\n",
      "Epoch 29/100\n",
      "16/16 - 0s - loss: 0.4774 - mean_absolute_error: 0.5308 - val_loss: 0.3969 - val_mean_absolute_error: 0.4890 - 93ms/epoch - 6ms/step\n",
      "Epoch 30/100\n",
      "16/16 - 0s - loss: 0.4696 - mean_absolute_error: 0.5281 - val_loss: 0.3933 - val_mean_absolute_error: 0.4852 - 91ms/epoch - 6ms/step\n",
      "Epoch 31/100\n",
      "16/16 - 0s - loss: 0.4699 - mean_absolute_error: 0.5266 - val_loss: 0.3930 - val_mean_absolute_error: 0.4840 - 85ms/epoch - 5ms/step\n",
      "Epoch 32/100\n",
      "16/16 - 0s - loss: 0.4664 - mean_absolute_error: 0.5246 - val_loss: 0.3966 - val_mean_absolute_error: 0.4848 - 82ms/epoch - 5ms/step\n",
      "Epoch 33/100\n",
      "16/16 - 0s - loss: 0.4680 - mean_absolute_error: 0.5267 - val_loss: 0.3984 - val_mean_absolute_error: 0.4888 - 76ms/epoch - 5ms/step\n",
      "Epoch 34/100\n",
      "16/16 - 0s - loss: 0.4571 - mean_absolute_error: 0.5211 - val_loss: 0.3912 - val_mean_absolute_error: 0.4839 - 83ms/epoch - 5ms/step\n",
      "Epoch 35/100\n",
      "16/16 - 0s - loss: 0.4641 - mean_absolute_error: 0.5218 - val_loss: 0.4227 - val_mean_absolute_error: 0.5002 - 72ms/epoch - 5ms/step\n",
      "Epoch 36/100\n",
      "16/16 - 0s - loss: 0.4728 - mean_absolute_error: 0.5252 - val_loss: 0.4062 - val_mean_absolute_error: 0.4886 - 92ms/epoch - 6ms/step\n",
      "Epoch 37/100\n",
      "16/16 - 0s - loss: 0.4618 - mean_absolute_error: 0.5224 - val_loss: 0.4165 - val_mean_absolute_error: 0.4992 - 68ms/epoch - 4ms/step\n",
      "Epoch 38/100\n",
      "16/16 - 0s - loss: 0.4570 - mean_absolute_error: 0.5192 - val_loss: 0.4049 - val_mean_absolute_error: 0.4922 - 67ms/epoch - 4ms/step\n",
      "Epoch 39/100\n",
      "16/16 - 0s - loss: 0.4628 - mean_absolute_error: 0.5232 - val_loss: 0.3872 - val_mean_absolute_error: 0.4795 - 85ms/epoch - 5ms/step\n",
      "Epoch 40/100\n",
      "16/16 - 0s - loss: 0.4526 - mean_absolute_error: 0.5165 - val_loss: 0.3889 - val_mean_absolute_error: 0.4794 - 82ms/epoch - 5ms/step\n",
      "Epoch 41/100\n",
      "16/16 - 0s - loss: 0.4505 - mean_absolute_error: 0.5170 - val_loss: 0.4232 - val_mean_absolute_error: 0.4997 - 83ms/epoch - 5ms/step\n",
      "Epoch 42/100\n",
      "16/16 - 0s - loss: 0.4565 - mean_absolute_error: 0.5161 - val_loss: 0.4104 - val_mean_absolute_error: 0.4900 - 81ms/epoch - 5ms/step\n",
      "Epoch 43/100\n",
      "16/16 - 0s - loss: 0.4524 - mean_absolute_error: 0.5124 - val_loss: 0.4028 - val_mean_absolute_error: 0.4910 - 68ms/epoch - 4ms/step\n",
      "Epoch 44/100\n",
      "16/16 - 0s - loss: 0.4550 - mean_absolute_error: 0.5210 - val_loss: 0.3854 - val_mean_absolute_error: 0.4781 - 80ms/epoch - 5ms/step\n",
      "Epoch 45/100\n",
      "16/16 - 0s - loss: 0.4489 - mean_absolute_error: 0.5137 - val_loss: 0.3886 - val_mean_absolute_error: 0.4785 - 72ms/epoch - 4ms/step\n",
      "Epoch 46/100\n",
      "16/16 - 0s - loss: 0.4456 - mean_absolute_error: 0.5133 - val_loss: 0.3873 - val_mean_absolute_error: 0.4801 - 71ms/epoch - 4ms/step\n",
      "Epoch 47/100\n",
      "16/16 - 0s - loss: 0.4532 - mean_absolute_error: 0.5153 - val_loss: 0.4109 - val_mean_absolute_error: 0.4905 - 67ms/epoch - 4ms/step\n",
      "Epoch 48/100\n",
      "16/16 - 0s - loss: 0.4457 - mean_absolute_error: 0.5148 - val_loss: 0.3872 - val_mean_absolute_error: 0.4777 - 66ms/epoch - 4ms/step\n",
      "Epoch 49/100\n",
      "16/16 - 0s - loss: 0.4417 - mean_absolute_error: 0.5083 - val_loss: 0.3871 - val_mean_absolute_error: 0.4800 - 77ms/epoch - 5ms/step\n",
      "Epoch 50/100\n",
      "16/16 - 0s - loss: 0.4491 - mean_absolute_error: 0.5155 - val_loss: 0.3937 - val_mean_absolute_error: 0.4806 - 74ms/epoch - 5ms/step\n",
      "Epoch 51/100\n",
      "16/16 - 0s - loss: 0.4385 - mean_absolute_error: 0.5084 - val_loss: 0.3856 - val_mean_absolute_error: 0.4765 - 74ms/epoch - 5ms/step\n",
      "Epoch 52/100\n",
      "16/16 - 0s - loss: 0.4407 - mean_absolute_error: 0.5116 - val_loss: 0.3811 - val_mean_absolute_error: 0.4738 - 68ms/epoch - 4ms/step\n",
      "Epoch 53/100\n",
      "16/16 - 0s - loss: 0.4455 - mean_absolute_error: 0.5137 - val_loss: 0.3819 - val_mean_absolute_error: 0.4752 - 69ms/epoch - 4ms/step\n",
      "Epoch 54/100\n",
      "16/16 - 0s - loss: 0.4393 - mean_absolute_error: 0.5110 - val_loss: 0.3803 - val_mean_absolute_error: 0.4733 - 81ms/epoch - 5ms/step\n",
      "Epoch 55/100\n",
      "16/16 - 0s - loss: 0.4394 - mean_absolute_error: 0.5069 - val_loss: 0.3967 - val_mean_absolute_error: 0.4835 - 89ms/epoch - 6ms/step\n",
      "Epoch 56/100\n",
      "16/16 - 0s - loss: 0.4481 - mean_absolute_error: 0.5139 - val_loss: 0.3800 - val_mean_absolute_error: 0.4733 - 76ms/epoch - 5ms/step\n",
      "Epoch 57/100\n",
      "16/16 - 0s - loss: 0.4362 - mean_absolute_error: 0.5109 - val_loss: 0.3886 - val_mean_absolute_error: 0.4792 - 75ms/epoch - 5ms/step\n"
     ]
    },
    {
     "name": "stdout",
     "output_type": "stream",
     "text": [
      "Epoch 58/100\n",
      "16/16 - 0s - loss: 0.4360 - mean_absolute_error: 0.5075 - val_loss: 0.3871 - val_mean_absolute_error: 0.4807 - 79ms/epoch - 5ms/step\n",
      "Epoch 59/100\n",
      "16/16 - 0s - loss: 0.4360 - mean_absolute_error: 0.5079 - val_loss: 0.3844 - val_mean_absolute_error: 0.4770 - 72ms/epoch - 5ms/step\n",
      "Epoch 60/100\n",
      "16/16 - 0s - loss: 0.4347 - mean_absolute_error: 0.5064 - val_loss: 0.3839 - val_mean_absolute_error: 0.4767 - 58ms/epoch - 4ms/step\n",
      "Epoch 61/100\n",
      "16/16 - 0s - loss: 0.4358 - mean_absolute_error: 0.5084 - val_loss: 0.4187 - val_mean_absolute_error: 0.4999 - 88ms/epoch - 6ms/step\n",
      "Epoch 62/100\n",
      "16/16 - 0s - loss: 0.4439 - mean_absolute_error: 0.5092 - val_loss: 0.3983 - val_mean_absolute_error: 0.4883 - 67ms/epoch - 4ms/step\n",
      "Epoch 63/100\n",
      "16/16 - 0s - loss: 0.4320 - mean_absolute_error: 0.5066 - val_loss: 0.3983 - val_mean_absolute_error: 0.4864 - 80ms/epoch - 5ms/step\n",
      "Epoch 64/100\n",
      "16/16 - 0s - loss: 0.4263 - mean_absolute_error: 0.5023 - val_loss: 0.3936 - val_mean_absolute_error: 0.4859 - 72ms/epoch - 4ms/step\n",
      "Epoch 65/100\n",
      "16/16 - 0s - loss: 0.4386 - mean_absolute_error: 0.5099 - val_loss: 0.4438 - val_mean_absolute_error: 0.5149 - 67ms/epoch - 4ms/step\n",
      "Epoch 66/100\n",
      "16/16 - 0s - loss: 0.4369 - mean_absolute_error: 0.5091 - val_loss: 0.3813 - val_mean_absolute_error: 0.4761 - 70ms/epoch - 4ms/step\n",
      "Epoch 67/100\n",
      "16/16 - 0s - loss: 0.4305 - mean_absolute_error: 0.5064 - val_loss: 0.3821 - val_mean_absolute_error: 0.4755 - 105ms/epoch - 7ms/step\n",
      "Epoch 68/100\n",
      "16/16 - 0s - loss: 0.4379 - mean_absolute_error: 0.5114 - val_loss: 0.3880 - val_mean_absolute_error: 0.4795 - 128ms/epoch - 8ms/step\n",
      "Epoch 69/100\n",
      "16/16 - 0s - loss: 0.4264 - mean_absolute_error: 0.5030 - val_loss: 0.3875 - val_mean_absolute_error: 0.4792 - 79ms/epoch - 5ms/step\n",
      "Epoch 70/100\n",
      "16/16 - 0s - loss: 0.4282 - mean_absolute_error: 0.5054 - val_loss: 0.3888 - val_mean_absolute_error: 0.4834 - 91ms/epoch - 6ms/step\n",
      "Epoch 71/100\n",
      "16/16 - 0s - loss: 0.4251 - mean_absolute_error: 0.5016 - val_loss: 0.3800 - val_mean_absolute_error: 0.4754 - 73ms/epoch - 5ms/step\n",
      "Epoch 72/100\n",
      "16/16 - 0s - loss: 0.4371 - mean_absolute_error: 0.5085 - val_loss: 0.3821 - val_mean_absolute_error: 0.4779 - 73ms/epoch - 5ms/step\n",
      "Epoch 73/100\n",
      "16/16 - 0s - loss: 0.4255 - mean_absolute_error: 0.5019 - val_loss: 0.3898 - val_mean_absolute_error: 0.4848 - 75ms/epoch - 5ms/step\n",
      "Epoch 74/100\n",
      "16/16 - 0s - loss: 0.4247 - mean_absolute_error: 0.5019 - val_loss: 0.3805 - val_mean_absolute_error: 0.4764 - 72ms/epoch - 5ms/step\n",
      "Epoch 75/100\n",
      "16/16 - 0s - loss: 0.4270 - mean_absolute_error: 0.5045 - val_loss: 0.3868 - val_mean_absolute_error: 0.4787 - 72ms/epoch - 5ms/step\n",
      "Epoch 76/100\n",
      "16/16 - 0s - loss: 0.4295 - mean_absolute_error: 0.5013 - val_loss: 0.3829 - val_mean_absolute_error: 0.4765 - 60ms/epoch - 4ms/step\n",
      "Epoch 77/100\n",
      "16/16 - 0s - loss: 0.4270 - mean_absolute_error: 0.5022 - val_loss: 0.4239 - val_mean_absolute_error: 0.5035 - 66ms/epoch - 4ms/step\n",
      "Epoch 78/100\n",
      "16/16 - 0s - loss: 0.4291 - mean_absolute_error: 0.5057 - val_loss: 0.3864 - val_mean_absolute_error: 0.4786 - 69ms/epoch - 4ms/step\n",
      "Epoch 79/100\n",
      "16/16 - 0s - loss: 0.4222 - mean_absolute_error: 0.5015 - val_loss: 0.3805 - val_mean_absolute_error: 0.4769 - 75ms/epoch - 5ms/step\n",
      "Epoch 80/100\n",
      "16/16 - 0s - loss: 0.4278 - mean_absolute_error: 0.5040 - val_loss: 0.4040 - val_mean_absolute_error: 0.4947 - 60ms/epoch - 4ms/step\n",
      "Epoch 81/100\n",
      "16/16 - 0s - loss: 0.4233 - mean_absolute_error: 0.5040 - val_loss: 0.3848 - val_mean_absolute_error: 0.4808 - 64ms/epoch - 4ms/step\n",
      "Epoch 82/100\n",
      "16/16 - 0s - loss: 0.4273 - mean_absolute_error: 0.5046 - val_loss: 0.4136 - val_mean_absolute_error: 0.5003 - 58ms/epoch - 4ms/step\n",
      "Epoch 83/100\n",
      "16/16 - 0s - loss: 0.4242 - mean_absolute_error: 0.5016 - val_loss: 0.3862 - val_mean_absolute_error: 0.4830 - 73ms/epoch - 5ms/step\n",
      "Epoch 84/100\n",
      "16/16 - 0s - loss: 0.4174 - mean_absolute_error: 0.4980 - val_loss: 0.3841 - val_mean_absolute_error: 0.4777 - 72ms/epoch - 4ms/step\n",
      "Epoch 85/100\n",
      "16/16 - 0s - loss: 0.4198 - mean_absolute_error: 0.4988 - val_loss: 0.3810 - val_mean_absolute_error: 0.4774 - 73ms/epoch - 5ms/step\n",
      "Epoch 86/100\n",
      "16/16 - 0s - loss: 0.4207 - mean_absolute_error: 0.5027 - val_loss: 0.3847 - val_mean_absolute_error: 0.4782 - 75ms/epoch - 5ms/step\n",
      "Epoch 87/100\n",
      "16/16 - 0s - loss: 0.4271 - mean_absolute_error: 0.5044 - val_loss: 0.3817 - val_mean_absolute_error: 0.4788 - 77ms/epoch - 5ms/step\n",
      "Epoch 88/100\n",
      "16/16 - 0s - loss: 0.4257 - mean_absolute_error: 0.5037 - val_loss: 0.3838 - val_mean_absolute_error: 0.4779 - 71ms/epoch - 4ms/step\n",
      "Epoch 89/100\n",
      "16/16 - 0s - loss: 0.4189 - mean_absolute_error: 0.4982 - val_loss: 0.3833 - val_mean_absolute_error: 0.4804 - 87ms/epoch - 5ms/step\n",
      "Epoch 90/100\n",
      "16/16 - 0s - loss: 0.4185 - mean_absolute_error: 0.4987 - val_loss: 0.3847 - val_mean_absolute_error: 0.4823 - 57ms/epoch - 4ms/step\n",
      "Epoch 91/100\n",
      "16/16 - 0s - loss: 0.4213 - mean_absolute_error: 0.5000 - val_loss: 0.4022 - val_mean_absolute_error: 0.4949 - 72ms/epoch - 4ms/step\n",
      "Epoch 92/100\n",
      "16/16 - 0s - loss: 0.4190 - mean_absolute_error: 0.4996 - val_loss: 0.3821 - val_mean_absolute_error: 0.4795 - 80ms/epoch - 5ms/step\n",
      "Epoch 93/100\n",
      "16/16 - 0s - loss: 0.4214 - mean_absolute_error: 0.5012 - val_loss: 0.3915 - val_mean_absolute_error: 0.4881 - 65ms/epoch - 4ms/step\n",
      "Epoch 94/100\n",
      "16/16 - 0s - loss: 0.4206 - mean_absolute_error: 0.5010 - val_loss: 0.3841 - val_mean_absolute_error: 0.4817 - 79ms/epoch - 5ms/step\n",
      "Epoch 95/100\n",
      "16/16 - 0s - loss: 0.4182 - mean_absolute_error: 0.4998 - val_loss: 0.3833 - val_mean_absolute_error: 0.4803 - 66ms/epoch - 4ms/step\n",
      "Epoch 96/100\n",
      "16/16 - 0s - loss: 0.4144 - mean_absolute_error: 0.4969 - val_loss: 0.3867 - val_mean_absolute_error: 0.4802 - 70ms/epoch - 4ms/step\n",
      "Epoch 97/100\n",
      "16/16 - 0s - loss: 0.4208 - mean_absolute_error: 0.5007 - val_loss: 0.3828 - val_mean_absolute_error: 0.4796 - 61ms/epoch - 4ms/step\n",
      "Epoch 98/100\n",
      "16/16 - 0s - loss: 0.4218 - mean_absolute_error: 0.5030 - val_loss: 0.3949 - val_mean_absolute_error: 0.4903 - 64ms/epoch - 4ms/step\n",
      "Epoch 99/100\n",
      "16/16 - 0s - loss: 0.4239 - mean_absolute_error: 0.5014 - val_loss: 0.3829 - val_mean_absolute_error: 0.4796 - 76ms/epoch - 5ms/step\n",
      "Epoch 100/100\n",
      "16/16 - 0s - loss: 0.4205 - mean_absolute_error: 0.4985 - val_loss: 0.3850 - val_mean_absolute_error: 0.4792 - 81ms/epoch - 5ms/step\n"
     ]
    }
   ],
   "source": [
    "# addestrare il modello su 100 epoche\n",
    "# sfruttando il dataset [x_test, y_test]\n",
    "# per validare il modello ad ogni\n",
    "# epoca\n",
    "\n",
    "log = model.fit(x_train_norm, y_train,\n",
    "    epochs=100,\n",
    "    verbose=2,\n",
    "    batch_size=64,\n",
    "    validation_data=(x_test_norm,y_test)\n",
    ")"
   ]
  },
  {
   "cell_type": "code",
   "execution_count": 18,
   "metadata": {
    "pycharm": {
     "name": "#%%\n"
    }
   },
   "outputs": [
    {
     "data": {
      "image/png": "[encoded data removed]",
      "text/plain": [
       "<Figure size 1200x400 with 1 Axes>"
      ]
     },
     "metadata": {},
     "output_type": "display_data"
    }
   ],
   "source": [
    "# visualizzazione dell'andamento dell'errore\n",
    "# durante l'addestramento\n",
    "\n",
    "plt.figure(figsize=(12, 4))\n",
    "plt.title('Errore quadratico medio')\n",
    "plt.plot(log.history['loss'], label='train')\n",
    "plt.plot(log.history['val_loss'], label='test')\n",
    "plt.xlabel('epoche')\n",
    "plt.ylabel('errore')\n",
    "plt.legend()\n",
    "plt.show()"
   ]
  },
  {
   "cell_type": "code",
   "execution_count": 19,
   "metadata": {
    "pycharm": {
     "name": "#%%\n"
    }
   },
   "outputs": [
    {
     "data": {
      "image/png": "[encoded data removed]",
      "text/plain": [
       "<Figure size 1200x400 with 1 Axes>"
      ]
     },
     "metadata": {},
     "output_type": "display_data"
    }
   ],
   "source": [
    "plt.figure(figsize=(12, 4))\n",
    "plt.title('Errore medio in valore assoluto')\n",
    "plt.plot(log.history['mean_absolute_error'], label='train')\n",
    "plt.plot(log.history['val_mean_absolute_error'], label='test')\n",
    "plt.xlabel('epoche')\n",
    "plt.ylabel('errore')\n",
    "plt.legend()\n",
    "plt.show()"
   ]
  },
  {
   "cell_type": "code",
   "execution_count": 20,
   "metadata": {
    "pycharm": {
     "name": "#%%\n"
    }
   },
   "outputs": [
    {
     "name": "stdout",
     "output_type": "stream",
     "text": [
      "5/5 [==============================] - 0s 3ms/step - loss: 0.3850 - mean_absolute_error: 0.4792\n",
      "[0.38499096035957336, 0.47917816042900085]\n"
     ]
    }
   ],
   "source": [
    "# recupero dati di validazione del modello\n",
    "# ovvero l'errore quadratico medio e l'errore\n",
    "# medio in valore assoluto del modello sul\n",
    "# dataset di test\n",
    "eval = model.evaluate(x_test_norm, y_test)\n",
    "print(eval)"
   ]
  },
  {
   "cell_type": "code",
   "execution_count": 21,
   "metadata": {
    "pycharm": {
     "name": "#%%\n"
    }
   },
   "outputs": [
    {
     "name": "stdout",
     "output_type": "stream",
     "text": [
      "5/5 [==============================] - 0s 5ms/step\n",
      "<class 'numpy.ndarray'>\n",
      "(143, 1)\n"
     ]
    }
   ],
   "source": [
    "# effettuare predizioni sul dataset\n",
    "# di validazione\n",
    "preds = model.predict(x_test_norm)\n",
    "print(type(preds))\n",
    "print(preds.shape)\n",
    "#print(preds)"
   ]
  },
  {
   "cell_type": "code",
   "execution_count": 24,
   "metadata": {
    "pycharm": {
     "name": "#%%\n"
    }
   },
   "outputs": [
    {
     "name": "stdout",
     "output_type": "stream",
     "text": [
      "predetto: 4 - 5 \treale: 5\n",
      "predetto: 4 - 5 \treale: 6\n",
      "predetto: 4 - 5 \treale: 5\n",
      "predetto: 5 - 6 \treale: 6\n",
      "predetto: 3 - 4 \treale: 5\n",
      "predetto: 4 - 5 \treale: 5\n",
      "predetto: 5 - 6 \treale: 6\n",
      "predetto: 4 - 5 \treale: 6\n",
      "predetto: 4 - 5 \treale: 5\n",
      "predetto: 3 - 4 \treale: 5\n"
     ]
    }
   ],
   "source": [
    "# stampa del confronto tra valori reali e predetti\n",
    "# su 10 esempi a caso del dataset di test\n",
    "# utilizzare il valore dell'errore medio riscontrato\n",
    "# in validazione del modello come offset rispetto\n",
    "# al volore predetto per definire l'intervallo\n",
    "# relativo alla \"risposta del modello\"\n",
    "for _ in range(10):\n",
    "    id = np.random.randint(0, len(x_test_norm))\n",
    "    print('predetto:', int(preds[id][0] - eval[1]), '-', int(preds[id][0] + eval[1]), '\\treale:', y_test[id])"
   ]
  },
  {
   "cell_type": "markdown",
   "metadata": {
    "pycharm": {
     "name": "#%% md\n"
    }
   },
   "source": []
  }
 ],
 "metadata": {
  "kernelspec": {
   "display_name": "Python 3 (ipykernel)",
   "language": "python",
   "name": "python3"
  },
  "language_info": {
   "codemirror_mode": {
    "name": "ipython",
    "version": 3
   },
   "file_extension": ".py",
   "mimetype": "text/x-python",
   "name": "python",
   "nbconvert_exporter": "python",
   "pygments_lexer": "ipython3",
   "version": "3.10.9"
  }
 },
 "nbformat": 4,
 "nbformat_minor": 1
}
